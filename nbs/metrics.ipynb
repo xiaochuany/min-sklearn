{
 "cells": [
  {
   "cell_type": "markdown",
   "metadata": {},
   "source": [
    "# metrics \n",
    "\n",
    "> common metrics for binary and multiclass classification"
   ]
  },
  {
   "cell_type": "code",
   "execution_count": null,
   "metadata": {},
   "outputs": [],
   "source": [
    "#| default_exp metrics"
   ]
  },
  {
   "cell_type": "code",
   "execution_count": null,
   "metadata": {},
   "outputs": [],
   "source": [
    "#| hide\n",
    "from nbdev.showdoc import *"
   ]
  },
  {
   "cell_type": "code",
   "execution_count": null,
   "metadata": {},
   "outputs": [],
   "source": [
    "#| export\n",
    "from typing import Union\n",
    "\n",
    "import numpy as np\n",
    "import matplotlib.pyplot as plt"
   ]
  },
  {
   "cell_type": "code",
   "execution_count": null,
   "metadata": {},
   "outputs": [],
   "source": [
    "#| export\n",
    "def accuracy_score(y_true: np.ndarray, # true labels \n",
    "                   y_pred: np.ndarray, # predicted labels\n",
    "                   normalize=False, # if weights is not None, normalize by sum of weights\n",
    "                   sample_weight: Union[np.ndarray,None] = None, # weights for each sample\n",
    "                   ):\n",
    "    \"\"\"computes accuracy for binary or multiclass classification\"\"\"\n",
    "    scores = (y_true==y_pred).astype(float) # bool*int, int*float not allowed\n",
    "    if sample_weight is not None: scores *= sample_weight \n",
    "    scale = sample_weight.sum() if sample_weight is not None else scores.size\n",
    "    return scores.sum()/scale.astype(float) if normalize else scores.sum()"
   ]
  },
  {
   "cell_type": "code",
   "execution_count": null,
   "metadata": {},
   "outputs": [],
   "source": [
    "from sklearn.metrics import accuracy_score as acc\n",
    "from fastcore.test import test_eq"
   ]
  },
  {
   "cell_type": "code",
   "execution_count": null,
   "metadata": {},
   "outputs": [],
   "source": [
    "x = np.array([0, 1, 2, 3])\n",
    "y = np.array([0, 1, 2, 5])\n",
    "weight = np.array([1, 1, 1, 0])\n",
    "test_eq(accuracy_score(x,y, normalize=True, sample_weight = weight), acc(x,y, normalize=True, sample_weight=weight))"
   ]
  },
  {
   "cell_type": "code",
   "execution_count": null,
   "metadata": {},
   "outputs": [],
   "source": [
    "#| export\n",
    "def confusion_matrix(\n",
    "        y_true: np.ndarray, # true labels\n",
    "        y_pred: np.ndarray, # predicted labels\n",
    "        sample_weight: Union[np.ndarray,None] = None, # weights for each sample\n",
    "):\n",
    "    \"\"\"compute confusion matrix for multiclass classification;\n",
    "    assume all labels are present and range from 0 to n_classes-1;\n",
    "    $C_{ij}$ is the number of samples that have true label $i$ and predicted label $j$\n",
    "    \n",
    "    \"\"\"\n",
    "    labels = np.union1d(y_true, y_pred)\n",
    "    # one hot encode the labels then use matrix multiplication to count things\n",
    "    ohe_true = np.eye(labels.size)[y_true]\n",
    "    ohe_pred = np.eye(labels.size)[y_pred] \n",
    "    # handle weights\n",
    "    if sample_weight is not None:\n",
    "        ohe_true = ohe_true*sample_weight[:,None]\n",
    "    C = ohe_true.T @ ohe_pred\n",
    "    return C"
   ]
  },
  {
   "cell_type": "code",
   "execution_count": null,
   "metadata": {},
   "outputs": [],
   "source": [
    "from sklearn.metrics import confusion_matrix as cm"
   ]
  },
  {
   "cell_type": "code",
   "execution_count": null,
   "metadata": {},
   "outputs": [],
   "source": [
    "y_true = np.array([0, 1,2,0])\n",
    "y_pred = np.array([0, 1,0,0])\n",
    "weight = np.array([1, 2, 3, 4])\n",
    "test_eq(confusion_matrix(y_true, y_pred, sample_weight=weight), cm(y_true, y_pred, sample_weight=weight))"
   ]
  },
  {
   "cell_type": "code",
   "execution_count": null,
   "metadata": {},
   "outputs": [],
   "source": [
    "#| export\n",
    "def precision_recall_fscore(y_true:np.ndarray,# true labels \n",
    "                            y_pred:np.ndarray, # predicted labels\n",
    "                            ):\n",
    "    labels = np.union1d(y_true, y_pred)\n",
    "    recs = np.zeros(labels.size)\n",
    "    pres = np.zeros(labels.size)\n",
    "    for i, label in enumerate(labels):\n",
    "        tp = (y_true==label).astype(float) @ (y_pred==label)\n",
    "        fp = (y_true!=label).astype(float) @ (y_pred==label)\n",
    "        fn = (y_true==label).astype(float) @ (y_pred!=label)\n",
    "        recs[i] = tp/(tp+fn)\n",
    "        pres[i] = tp/(tp+fp)\n",
    "    fs = 2*recs*pres/(recs+pres)\n",
    "    return pres.mean(), recs.mean(), fs.mean()"
   ]
  },
  {
   "cell_type": "code",
   "execution_count": null,
   "metadata": {},
   "outputs": [],
   "source": [
    "#| export\n",
    "def precision_score(y_true, y_pred):\n",
    "    \"\"\"compute the average precision, even in the binary case\"\"\"\n",
    "    prec, _, _ = precision_recall_fscore(y_true, y_pred)\n",
    "    return prec"
   ]
  },
  {
   "cell_type": "code",
   "execution_count": null,
   "metadata": {},
   "outputs": [],
   "source": [
    "#| export\n",
    "def recall_score(y_true, y_pred):\n",
    "    \"\"\"compute the average recall, even in the binary case\"\"\"\n",
    "    _, rec, _ = precision_recall_fscore(y_true, y_pred)\n",
    "    return rec"
   ]
  },
  {
   "cell_type": "code",
   "execution_count": null,
   "metadata": {},
   "outputs": [],
   "source": [
    "#| export\n",
    "def f1_score(y_true, y_pred):\n",
    "    \"\"\"compute the average f1, even in the binary case\"\"\"\n",
    "    _, _, f1 = precision_recall_fscore(y_true, y_pred)\n",
    "    return f1"
   ]
  },
  {
   "cell_type": "code",
   "execution_count": null,
   "metadata": {},
   "outputs": [
    {
     "data": {
      "text/plain": [
       "(0.5, 0.5, 0.5)"
      ]
     },
     "execution_count": null,
     "metadata": {},
     "output_type": "execute_result"
    }
   ],
   "source": [
    "(\n",
    "    precision_score(np.array([0, 1, 1,0]), np.array([1,1,0,0])),\n",
    "    recall_score(np.array([0, 1, 1,0]), np.array([1,1,0,0])),\n",
    "    f1_score(np.array([0, 1, 1,0]), np.array([1,1,0,0]))\n",
    ")"
   ]
  },
  {
   "cell_type": "code",
   "execution_count": null,
   "metadata": {},
   "outputs": [],
   "source": [
    "#| export\n",
    "def log_loss(y_true, y_pred, *, sample_weights=None):\n",
    "    \"\"\" y_true.dim == 1, y_pred.dim == 2, sample_weights.dim == 1\"\"\"\n",
    "    probs = y_pred[np.arange(y_true.size),y_true]\n",
    "    if sample_weights is not None: \n",
    "        loss = -np.log(probs) @ sample_weights / sample_weights.sum()\n",
    "    else: \n",
    "        loss = -np.log(probs).mean()\n",
    "    return loss"
   ]
  },
  {
   "cell_type": "code",
   "execution_count": null,
   "metadata": {},
   "outputs": [
    {
     "data": {
      "text/plain": [
       "0.14844335050755605"
      ]
     },
     "execution_count": null,
     "metadata": {},
     "output_type": "execute_result"
    }
   ],
   "source": [
    "log_loss(np.array([0, 1, 1]), np.array([[0.1, 0.9], [0.9, 0.1], [0.1, 0.9]]), sample_weights=np.array([1, 1, 100]))"
   ]
  },
  {
   "cell_type": "code",
   "execution_count": null,
   "metadata": {},
   "outputs": [],
   "source": [
    "#| export\n",
    "def roc_curve(y_true, y_score, *, pos_label=None):\n",
    "    y_true = y_true.reshape(-1,1)\n",
    "    if y_score.ndim == 1:\n",
    "        y_score = np.concatenate([1-y_score.reshape(-1,1), y_score.reshape(-1,1)], axis=-1)\n",
    "    y = np.concatenate([y_true, y_score], axis=-1)\n",
    "    labels = np.sort(np.unique(y_true)) # assume all labels are present in y_true\n",
    "    tprs = np.zeros(y_score.shape)\n",
    "    fprs = np.zeros(y_score.shape)\n",
    "    thresholds = np.zeros(y_score.shape)\n",
    "    for i in range(len(labels)):\n",
    "        idxs = np.argsort(y, axis=0)[::-1,i+1] # idxs that sort arr by score descending\n",
    "        yi = np.where(y[idxs,0]==labels[i], 1, 0) # rewrite y_true to binary\n",
    "        tcum = np.cumsum(yi)\n",
    "        tprs[:,i] = tcum/tcum[-1]\n",
    "        fcum = np.cumsum(1-yi)\n",
    "        fprs[:,i] = fcum/fcum[-1]\n",
    "        thresholds[:,i] = y[idxs,i+1]\n",
    "    if pos_label is None:\n",
    "        # assume {-1,1} or {0,1} labels in y_true\n",
    "        pos_label = 1\n",
    "    idx = np.where(labels==pos_label)[0].item()\n",
    "    return fprs[:,idx], tprs[:,idx], thresholds[:,idx]"
   ]
  },
  {
   "cell_type": "code",
   "execution_count": null,
   "metadata": {},
   "outputs": [
    {
     "data": {
      "text/plain": [
       "(array([0. , 0.5, 1. , 1. ]),\n",
       " array([0.5, 0.5, 0.5, 1. ]),\n",
       " array([0.9, 0.7, 0.2, 0.1]))"
      ]
     },
     "execution_count": null,
     "metadata": {},
     "output_type": "execute_result"
    }
   ],
   "source": [
    "roc_curve(np.array([0, 1, 1, 0]), np.array([[0.3, 0.7], [0.9, 0.1], [0.1, 0.9], [0.8, 0.2]])) # note: thresthold def is different from sklearn"
   ]
  },
  {
   "cell_type": "code",
   "execution_count": null,
   "metadata": {},
   "outputs": [
    {
     "data": {
      "text/plain": [
       "(array([0. , 0.5, 1. , 1. ]),\n",
       " array([0.5, 0.5, 0.5, 1. ]),\n",
       " array([0.9, 0.8, 0.3, 0.1]))"
      ]
     },
     "execution_count": null,
     "metadata": {},
     "output_type": "execute_result"
    }
   ],
   "source": [
    "roc_curve(np.array([0, 1, 1, 0]), np.array([0.3, 0.9, 0.1, 0.8]))"
   ]
  },
  {
   "cell_type": "code",
   "execution_count": null,
   "metadata": {},
   "outputs": [],
   "source": [
    "#| export\n",
    "def roc_auc_score(y_true, y_score):\n",
    "    fpr, tpr, _ =  roc_curve(y_true, y_score)\n",
    "    fpr_inc = (np.roll(fpr,-1) - fpr)[:-1]\n",
    "    auc = (fpr_inc * tpr[:-1]).sum()\n",
    "    return auc"
   ]
  },
  {
   "cell_type": "code",
   "execution_count": null,
   "metadata": {},
   "outputs": [],
   "source": [
    "import sklearn.metrics as skm"
   ]
  },
  {
   "cell_type": "code",
   "execution_count": null,
   "metadata": {},
   "outputs": [],
   "source": [
    "a1 = np.array([1,0,1,0,1,1,1,1])\n",
    "a2 = np.random.random(8)\n",
    "assert roc_auc_score(a1, a2) == skm.roc_auc_score(a1, a2)"
   ]
  },
  {
   "cell_type": "code",
   "execution_count": null,
   "metadata": {},
   "outputs": [],
   "source": [
    "#| export\n",
    "class RocCurveDisplay:\n",
    "    \"\"\"plot result of `roc_curve` which returns fpr, tpr, _ \"\"\"\n",
    "    @classmethod\n",
    "    def from_predictions(cls, y_true, y_score):\n",
    "        fpr, tpr, _ = roc_curve(y_true, y_score)\n",
    "        return plt.plot(fpr, tpr)\n",
    "    \n",
    "    @classmethod\n",
    "    def from_estimator(cls, clf, y_true, y_score):\n",
    "        raise NotImplemented"
   ]
  },
  {
   "cell_type": "code",
   "execution_count": null,
   "metadata": {},
   "outputs": [
    {
     "data": {
      "text/plain": [
       "[<matplotlib.lines.Line2D>]"
      ]
     },
     "execution_count": null,
     "metadata": {},
     "output_type": "execute_result"
    },
    {
     "data": {
      "image/png": "[encoded data removed]",
      "text/plain": [
       "<Figure size 640x480 with 1 Axes>"
      ]
     },
     "metadata": {},
     "output_type": "display_data"
    }
   ],
   "source": [
    "RocCurveDisplay.from_predictions(a1, a2)"
   ]
  },
  {
   "cell_type": "code",
   "execution_count": null,
   "metadata": {},
   "outputs": [],
   "source": [
    "class ConfusionMatrixDisplay:\n",
    "    \"\"\"plot result of `confusion_matrix`\"\"\"\n",
    "    @classmethod\n",
    "    def from_predictions(cls, y_true, y_pred, sample_weight=None):\n",
    "        # horizontal axis is predicted, vertical axis is true\n",
    "        # mark numbers in the cells; add colorbar\n",
    "        C = confusion_matrix(y_true, y_pred, sample_weight)\n",
    "        plt.figure(figsize=(8, 6))\n",
    "        plt.imshow(C, interpolation='nearest', cmap='Blues')\n",
    "        plt.colorbar()\n",
    "        for i in range(C.shape[0]):\n",
    "            for j in range(C.shape[1]):\n",
    "                plt.text(j, i, C[i, j])\n",
    "        plt.xlabel('Predicted')\n",
    "        plt.ylabel('True')\n",
    "        plt.show()"
   ]
  },
  {
   "cell_type": "code",
   "execution_count": null,
   "metadata": {},
   "outputs": [
    {
     "data": {
      "image/png": "[encoded data removed]",
      "text/plain": [
       "<Figure size 800x600 with 2 Axes>"
      ]
     },
     "metadata": {},
     "output_type": "display_data"
    }
   ],
   "source": [
    "ConfusionMatrixDisplay.from_predictions(y_true, y_pred)"
   ]
  },
  {
   "cell_type": "code",
   "execution_count": null,
   "metadata": {},
   "outputs": [],
   "source": [
    "#| hide\n",
    "import nbdev; nbdev.nbdev_export()"
   ]
  },
  {
   "cell_type": "code",
   "execution_count": null,
   "metadata": {},
   "outputs": [],
   "source": []
  }
 ],
 "metadata": {
  "kernelspec": {
   "display_name": "python3",
   "language": "python",
   "name": "python3"
  }
 },
 "nbformat": 4,
 "nbformat_minor": 4
}
