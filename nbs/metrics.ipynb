{
 "cells": [
  {
   "cell_type": "markdown",
   "metadata": {},
   "source": [
    "# metrics \n",
    "\n",
    "> common metrics for classification, regresssion, clustering, and ranking"
   ]
  },
  {
   "cell_type": "code",
   "execution_count": null,
   "metadata": {},
   "outputs": [],
   "source": [
    "#| default_exp metrics"
   ]
  },
  {
   "cell_type": "code",
   "execution_count": null,
   "metadata": {},
   "outputs": [],
   "source": [
    "#| hide\n",
    "from nbdev.showdoc import *"
   ]
  },
  {
   "cell_type": "code",
   "execution_count": null,
   "metadata": {},
   "outputs": [],
   "source": [
    "#| export\n",
    "import numpy as np\n",
    "import matplotlib.pyplot as plt"
   ]
  },
  {
   "cell_type": "code",
   "execution_count": null,
   "metadata": {},
   "outputs": [],
   "source": [
    "#| export\n",
    "def accuracy_score(y_true, y_pred, *, normalize=False, weights=None):\n",
    "    \"\"\"expects numpy.array\"\"\"\n",
    "    scores = (y_true==y_pred).astype(float) # bool*int, int*float not allowed\n",
    "    if weights is not None: scores *= weights \n",
    "    scale = weights.sum() if weights is not None else scores.size\n",
    "    return scores.sum()/scale.astype(float) if normalize else scores.sum()"
   ]
  },
  {
   "cell_type": "code",
   "execution_count": null,
   "metadata": {},
   "outputs": [
    {
     "data": {
      "text/plain": [
       "1.0"
      ]
     },
     "execution_count": null,
     "metadata": {},
     "output_type": "execute_result"
    }
   ],
   "source": [
    "x = np.array([0, 1, 2, 3])\n",
    "y = np.array([0, 1, 2, 5])\n",
    "accuracy_score(x,y, normalize=True, weights = np.array([1, 1, 1, 0], dtype=np.int32))"
   ]
  },
  {
   "cell_type": "code",
   "execution_count": null,
   "metadata": {},
   "outputs": [],
   "source": [
    "#| export\n",
    "def precision_recall_fscore(y_true, y_pred):\n",
    "    labels = np.union1d(y_true, y_pred)\n",
    "    recs = np.zeros(labels.size)\n",
    "    pres = np.zeros(labels.size)\n",
    "    for i, label in enumerate(labels):\n",
    "        tp = (y_true==label).astype(float) @ (y_pred==label)\n",
    "        fp = (y_true!=label).astype(float) @ (y_pred==label)\n",
    "        fn = (y_true==label).astype(float) @ (y_pred!=label)\n",
    "        recs[i] = tp/(tp+fn)\n",
    "        pres[i] = tp/(tp+fp)\n",
    "    fs = 2*recs*pres/(recs+pres)\n",
    "    return pres.mean(), recs.mean(), fs.mean()"
   ]
  },
  {
   "cell_type": "code",
   "execution_count": null,
   "metadata": {},
   "outputs": [],
   "source": [
    "#| export\n",
    "def precision_score(y_true, y_pred):\n",
    "    \"\"\"compute the average precision, even in the binary case\"\"\"\n",
    "    prec, _, _ = precision_recall_fscore(y_true, y_pred)\n",
    "    return prec"
   ]
  },
  {
   "cell_type": "code",
   "execution_count": null,
   "metadata": {},
   "outputs": [],
   "source": [
    "#| export\n",
    "def recall_score(y_true, y_pred):\n",
    "    \"\"\"compute the average recall, even in the binary case\"\"\"\n",
    "    _, rec, _ = precision_recall_fscore(y_true, y_pred)\n",
    "    return rec"
   ]
  },
  {
   "cell_type": "code",
   "execution_count": null,
   "metadata": {},
   "outputs": [],
   "source": [
    "#| export\n",
    "def f1_score(y_true, y_pred):\n",
    "    \"\"\"compute the average f1, even in the binary case\"\"\"\n",
    "    _, _, f1 = precision_recall_fscore(y_true, y_pred)\n",
    "    return f1"
   ]
  },
  {
   "cell_type": "code",
   "execution_count": null,
   "metadata": {},
   "outputs": [
    {
     "data": {
      "text/plain": [
       "(0.5, 0.5, 0.5)"
      ]
     },
     "execution_count": null,
     "metadata": {},
     "output_type": "execute_result"
    }
   ],
   "source": [
    "(\n",
    "    precision_score(np.array([0, 1, 1,0]), np.array([1,1,0,0])),\n",
    "    recall_score(np.array([0, 1, 1,0]), np.array([1,1,0,0])),\n",
    "    f1_score(np.array([0, 1, 1,0]), np.array([1,1,0,0]))\n",
    ")"
   ]
  },
  {
   "cell_type": "code",
   "execution_count": null,
   "metadata": {},
   "outputs": [],
   "source": [
    "#| export\n",
    "def log_loss(y_true, y_pred, *, sample_weights=None):\n",
    "    \"\"\" y_true.dim == 1, y_pred.dim == 2, sample_weights.dim == 1\"\"\"\n",
    "    probs = y_pred[np.arange(y_true.size),y_true]\n",
    "    if sample_weights is not None: \n",
    "        loss = -np.log(probs) @ sample_weights / sample_weights.sum()\n",
    "    else: \n",
    "        loss = -np.log(probs).mean()\n",
    "    return loss"
   ]
  },
  {
   "cell_type": "code",
   "execution_count": null,
   "metadata": {},
   "outputs": [
    {
     "data": {
      "text/plain": [
       "0.14844335050755605"
      ]
     },
     "execution_count": null,
     "metadata": {},
     "output_type": "execute_result"
    }
   ],
   "source": [
    "log_loss(np.array([0, 1, 1]), np.array([[0.1, 0.9], [0.9, 0.1], [0.1, 0.9]]), sample_weights=np.array([1, 1, 100]))"
   ]
  },
  {
   "cell_type": "code",
   "execution_count": null,
   "metadata": {},
   "outputs": [],
   "source": [
    "#| export\n",
    "def roc_curve(y_true, y_score):\n",
    "    y = np.stack([y_true, y_score], axis=-1)\n",
    "    idxs = np.argsort(y, axis=0)[::-1,-1] # idxs that sort arr by score descending\n",
    "    y = y[idxs]\n",
    "    tcum = np.cumsum(y[:,0])\n",
    "    tpr = tcum/tcum[-1]\n",
    "    fcum = np.cumsum(1-y[:,0])\n",
    "    fpr = fcum/fcum[-1]\n",
    "    thresholds = y[:,1]\n",
    "    return fpr, tpr, thresholds"
   ]
  },
  {
   "cell_type": "code",
   "execution_count": null,
   "metadata": {},
   "outputs": [],
   "source": [
    "#| export\n",
    "def roc_auc_score(y_true, y_score):\n",
    "    fpr, tpr, _ =  roc_curve(y_true, y_score)\n",
    "    fpr_inc = (np.roll(fpr,-1) - fpr)[:-1]\n",
    "    auc = (fpr_inc * tpr[:-1]).sum()\n",
    "    return auc"
   ]
  },
  {
   "cell_type": "code",
   "execution_count": null,
   "metadata": {},
   "outputs": [],
   "source": [
    "import sklearn.metrics as skm"
   ]
  },
  {
   "cell_type": "code",
   "execution_count": null,
   "metadata": {},
   "outputs": [],
   "source": [
    "a1 = np.array([1,0,1,0,1,1,1,1])\n",
    "a2 = np.random.random(8)\n",
    "assert roc_auc_score(a1, a2) == skm.roc_auc_score(a1, a2)"
   ]
  },
  {
   "cell_type": "code",
   "execution_count": null,
   "metadata": {},
   "outputs": [],
   "source": [
    "#| export\n",
    "class RocCurveDisplay:\n",
    "    \"\"\"plot result of `roc_curve` which returns fpr, tpr, _ \"\"\"\n",
    "    @classmethod\n",
    "    def from_predictions(cls, y_true, y_score):\n",
    "        fpr, tpr, _ = roc_curve(y_true, y_score)\n",
    "        return plt.plot(fpr, tpr)\n",
    "    \n",
    "    @classmethod\n",
    "    def from_estimator(cls, clf, y_true, y_score):\n",
    "        raise NotImplemented"
   ]
  },
  {
   "cell_type": "code",
   "execution_count": null,
   "metadata": {},
   "outputs": [
    {
     "data": {
      "text/plain": [
       "[<matplotlib.lines.Line2D>]"
      ]
     },
     "execution_count": null,
     "metadata": {},
     "output_type": "execute_result"
    },
    {
     "data": {
      "image/png": "[encoded data removed]",
      "text/plain": [
       "<Figure size 640x480 with 1 Axes>"
      ]
     },
     "metadata": {},
     "output_type": "display_data"
    }
   ],
   "source": [
    "RocCurveDisplay.from_predictions(a1, a2)"
   ]
  },
  {
   "cell_type": "code",
   "execution_count": null,
   "metadata": {},
   "outputs": [],
   "source": [
    "#| hide\n",
    "import nbdev; nbdev.nbdev_export()"
   ]
  },
  {
   "cell_type": "code",
   "execution_count": null,
   "metadata": {},
   "outputs": [],
   "source": []
  }
 ],
 "metadata": {
  "kernelspec": {
   "display_name": "python3",
   "language": "python",
   "name": "python3"
  }
 },
 "nbformat": 4,
 "nbformat_minor": 4
}
